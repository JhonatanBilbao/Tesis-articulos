{
  "cells": [
    {
      "cell_type": "markdown",
      "metadata": {
        "id": "view-in-github",
        "colab_type": "text"
      },
      "source": [
        "<a href=\"https://colab.research.google.com/github/JhonatanBilbao/Tesis-articulos/blob/main/RUIDS_Colab.ipynb\" target=\"_parent\"><img src=\"https://colab.research.google.com/assets/colab-badge.svg\" alt=\"Open In Colab\"/></a>"
      ]
    },
    {
      "cell_type": "markdown",
      "id": "21b12f11",
      "metadata": {
        "id": "21b12f11"
      },
      "source": [
        "# 🧠 RUIDS: Robust Unsupervised Intrusion Detection System\n",
        "\n",
        "Implementación basada en el artículo:\n",
        "\n",
        "> **Wei Wang, Songlei Jian, Yusong Tan, Qingbo Wu, Chenlin Huang** (2023)  \n",
        "> *Robust unsupervised network intrusion detection with self-supervised masked context reconstruction*  \n",
        "> Computers & Security, Volume 128, 2023, 103131  \n",
        "> https://doi.org/10.1016/j.cose.2023.103131\n",
        "\n",
        "---\n",
        "\n",
        "**Resumen del artículo**:\n",
        "\n",
        "RUIDS es un sistema robusto de detección de intrusos que funciona sin etiquetas, utilizando:\n",
        "\n",
        "- Aprendizaje auto-supervisado con un esquema de reconstrucción de contexto enmascarado.\n",
        "- Transformers para capturar relaciones temporales.\n",
        "- Reconstrucción para aprender representaciones robustas.\n",
        "- Evaluación basada en reconstrucción y pérdida de contraste para detectar anomalías.\n",
        "\n",
        "---\n"
      ]
    },
    {
      "cell_type": "markdown",
      "id": "788d9b25",
      "metadata": {
        "id": "788d9b25"
      },
      "source": [
        "### 📌 Configuración inicial y librerías"
      ]
    },
    {
      "cell_type": "code",
      "execution_count": 1,
      "id": "be82d289",
      "metadata": {
        "colab": {
          "base_uri": "https://localhost:8080/"
        },
        "id": "be82d289",
        "outputId": "93acc88b-056d-4cad-b997-e4c5828bc133"
      },
      "outputs": [
        {
          "output_type": "execute_result",
          "data": {
            "text/plain": [
              "<torch._C.Generator at 0x7cb8745c5330>"
            ]
          },
          "metadata": {},
          "execution_count": 1
        }
      ],
      "source": [
        "import numpy as np\n",
        "import torch\n",
        "import torch.nn as nn\n",
        "import torch.nn.functional as F\n",
        "from sklearn.preprocessing import StandardScaler\n",
        "from sklearn.metrics import accuracy_score, f1_score, roc_auc_score\n",
        "from sklearn.model_selection import train_test_split\n",
        "\n",
        "device = torch.device(\"cuda\" if torch.cuda.is_available() else \"cpu\")\n",
        "SEED = 42\n",
        "np.random.seed(SEED)\n",
        "torch.manual_seed(SEED)\n"
      ]
    },
    {
      "cell_type": "markdown",
      "id": "a12cd79f",
      "metadata": {
        "id": "a12cd79f"
      },
      "source": [
        "### 📌 Datos sintéticos (puedes reemplazar con KDD, UNSW, CICIDS)"
      ]
    },
    {
      "cell_type": "code",
      "execution_count": 2,
      "id": "8ddb8f31",
      "metadata": {
        "id": "8ddb8f31"
      },
      "outputs": [],
      "source": [
        "from sklearn.datasets import make_classification\n",
        "\n",
        "X, y = make_classification(n_samples=10000, n_features=41, n_informative=30,\n",
        "                           n_redundant=5, n_clusters_per_class=2, weights=[0.7, 0.3], random_state=SEED)\n",
        "\n",
        "scaler = StandardScaler()\n",
        "X = scaler.fit_transform(X)\n",
        "\n",
        "X_train, X_test, y_train, y_test = train_test_split(X[y == 0], y[y == 0], test_size=0.5, random_state=SEED)\n",
        "X_test_attack = X[y == 1]\n",
        "y_test_attack = y[y == 1]\n",
        "X_test_full = np.vstack([X_test, X_test_attack])\n",
        "y_test_full = np.concatenate([y_test, y_test_attack])\n"
      ]
    },
    {
      "cell_type": "markdown",
      "id": "e27244d1",
      "metadata": {
        "id": "e27244d1"
      },
      "source": [
        "### 📌 Bloque Transformer simple"
      ]
    },
    {
      "cell_type": "code",
      "execution_count": 3,
      "id": "a7533b09",
      "metadata": {
        "id": "a7533b09"
      },
      "outputs": [],
      "source": [
        "class TransformerBlock(nn.Module):\n",
        "    def __init__(self, dim, heads=4):\n",
        "        super().__init__()\n",
        "        self.attn = nn.MultiheadAttention(embed_dim=dim, num_heads=heads, batch_first=True)\n",
        "        self.ff = nn.Sequential(\n",
        "            nn.LayerNorm(dim),\n",
        "            nn.Linear(dim, dim * 2),\n",
        "            nn.ReLU(),\n",
        "            nn.Linear(dim * 2, dim)\n",
        "        )\n",
        "\n",
        "    def forward(self, x):\n",
        "        attn_output, _ = self.attn(x, x, x)\n",
        "        x = x + attn_output\n",
        "        return self.ff(x) + x\n"
      ]
    },
    {
      "cell_type": "markdown",
      "id": "d3f0e46c",
      "metadata": {
        "id": "d3f0e46c"
      },
      "source": [
        "### 📌 Definición del modelo RUIDS"
      ]
    },
    {
      "cell_type": "code",
      "execution_count": 4,
      "id": "bdaa5ecf",
      "metadata": {
        "id": "bdaa5ecf"
      },
      "outputs": [],
      "source": [
        "class RUIDS(nn.Module):\n",
        "    def __init__(self, input_dim, hidden_dim=64):\n",
        "        super().__init__()\n",
        "        self.encoder = nn.Linear(input_dim, hidden_dim)\n",
        "        self.transformer = TransformerBlock(hidden_dim)\n",
        "        self.decoder = nn.Linear(hidden_dim, input_dim)\n",
        "\n",
        "    def forward(self, x, mask_ratio=0.1):\n",
        "        batch_size, feat_dim = x.shape\n",
        "        mask = torch.rand(batch_size, feat_dim) > mask_ratio\n",
        "        x_masked = x.clone()\n",
        "        x_masked[~mask] = 0\n",
        "        x_encoded = self.encoder(x_masked)\n",
        "        x_transformed = self.transformer(x_encoded.unsqueeze(1)).squeeze(1)\n",
        "        x_decoded = self.decoder(x_transformed)\n",
        "        return x_decoded, mask\n"
      ]
    },
    {
      "cell_type": "markdown",
      "id": "f6b149b3",
      "metadata": {
        "id": "f6b149b3"
      },
      "source": [
        "### 📌 Función de entrenamiento"
      ]
    },
    {
      "cell_type": "code",
      "execution_count": 5,
      "id": "5de5f08a",
      "metadata": {
        "id": "5de5f08a"
      },
      "outputs": [],
      "source": [
        "def train_ruids(model, X_train, epochs=20, lr=1e-3, alpha=1.0):\n",
        "    model.train()\n",
        "    optimizer = torch.optim.Adam(model.parameters(), lr=lr)\n",
        "    X_tensor = torch.tensor(X_train, dtype=torch.float32).to(device)\n",
        "\n",
        "    for epoch in range(epochs):\n",
        "        out, mask = model(X_tensor)\n",
        "        loss = F.mse_loss(out[mask], X_tensor[mask])\n",
        "        optimizer.zero_grad()\n",
        "        loss.backward()\n",
        "        optimizer.step()\n",
        "        print(f\"Epoch {epoch+1}: Loss = {loss.item():.4f}\")\n"
      ]
    },
    {
      "cell_type": "markdown",
      "id": "a0271e45",
      "metadata": {
        "id": "a0271e45"
      },
      "source": [
        "### 📌 Función de evaluación"
      ]
    },
    {
      "cell_type": "code",
      "execution_count": 6,
      "id": "8d5d77ce",
      "metadata": {
        "id": "8d5d77ce"
      },
      "outputs": [],
      "source": [
        "def evaluate(model, X_test, y_test):\n",
        "    model.eval()\n",
        "    X_tensor = torch.tensor(X_test, dtype=torch.float32).to(device)\n",
        "    with torch.no_grad():\n",
        "        out, mask = model(X_tensor)\n",
        "        scores = ((out - X_tensor)**2).mean(dim=1).cpu().numpy()\n",
        "\n",
        "    auc = roc_auc_score(y_test, scores)\n",
        "    pred = (scores > np.percentile(scores, 70)).astype(int)\n",
        "    acc = accuracy_score(y_test, pred)\n",
        "    f1 = f1_score(y_test, pred)\n",
        "    print(f\"Accuracy: {acc:.4f}, F1-score: {f1:.4f}, AUC: {auc:.4f}\")\n",
        "    return acc, f1, auc\n"
      ]
    },
    {
      "cell_type": "markdown",
      "id": "90ffa266",
      "metadata": {
        "id": "90ffa266"
      },
      "source": [
        "### 📌 Entrenamiento y evaluación final"
      ]
    },
    {
      "cell_type": "code",
      "execution_count": 7,
      "id": "0d2c5c04",
      "metadata": {
        "colab": {
          "base_uri": "https://localhost:8080/"
        },
        "id": "0d2c5c04",
        "outputId": "5d5c31a7-44c0-40b6-942e-f60f1e895ad5"
      },
      "outputs": [
        {
          "output_type": "stream",
          "name": "stdout",
          "text": [
            "Epoch 1: Loss = 1.1369\n",
            "Epoch 2: Loss = 1.0866\n",
            "Epoch 3: Loss = 1.0356\n",
            "Epoch 4: Loss = 0.9866\n",
            "Epoch 5: Loss = 0.9464\n",
            "Epoch 6: Loss = 0.9061\n",
            "Epoch 7: Loss = 0.8648\n",
            "Epoch 8: Loss = 0.8290\n",
            "Epoch 9: Loss = 0.7940\n",
            "Epoch 10: Loss = 0.7601\n",
            "Epoch 11: Loss = 0.7274\n",
            "Epoch 12: Loss = 0.6968\n",
            "Epoch 13: Loss = 0.6690\n",
            "Epoch 14: Loss = 0.6403\n",
            "Epoch 15: Loss = 0.6134\n",
            "Epoch 16: Loss = 0.5885\n",
            "Epoch 17: Loss = 0.5626\n",
            "Epoch 18: Loss = 0.5404\n",
            "Epoch 19: Loss = 0.5180\n",
            "Epoch 20: Loss = 0.4963\n",
            "Accuracy: 0.6671, F1-score: 0.5641, AUC: 0.7278\n"
          ]
        },
        {
          "output_type": "execute_result",
          "data": {
            "text/plain": [
              "(0.6670763558150253, 0.564071615369141, np.float64(0.7278403008854161))"
            ]
          },
          "metadata": {},
          "execution_count": 7
        }
      ],
      "source": [
        "model = RUIDS(input_dim=X.shape[1]).to(device)\n",
        "train_ruids(model, X_train)\n",
        "evaluate(model, X_test_full, y_test_full)\n"
      ]
    }
  ],
  "metadata": {
    "colab": {
      "provenance": [],
      "include_colab_link": true
    },
    "language_info": {
      "name": "python"
    },
    "kernelspec": {
      "name": "python3",
      "display_name": "Python 3"
    }
  },
  "nbformat": 4,
  "nbformat_minor": 5
}